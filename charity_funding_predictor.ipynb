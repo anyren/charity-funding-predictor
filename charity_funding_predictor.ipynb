{
  "cells": [
    {
      "cell_type": "markdown",
      "metadata": {
        "id": "zfofABQSo9HR"
      },
      "source": [
        "## Preprocessing"
      ]
    },
    {
      "cell_type": "code",
      "execution_count": 1,
      "metadata": {
        "colab": {
          "base_uri": "https://localhost:8080/",
          "height": 74
        },
        "id": "LIoazksZo9HT",
        "outputId": "31491d2f-64f7-4cae-c833-5db23785de55"
      },
      "outputs": [
        {
          "output_type": "display_data",
          "data": {
            "text/plain": [
              "<IPython.core.display.HTML object>"
            ],
            "text/html": [
              "\n",
              "     <input type=\"file\" id=\"files-f06f613a-f3ed-4b1c-a1c2-45b6ac8fc5f0\" name=\"files[]\" multiple disabled\n",
              "        style=\"border:none\" />\n",
              "     <output id=\"result-f06f613a-f3ed-4b1c-a1c2-45b6ac8fc5f0\">\n",
              "      Upload widget is only available when the cell has been executed in the\n",
              "      current browser session. Please rerun this cell to enable.\n",
              "      </output>\n",
              "      <script>// Copyright 2017 Google LLC\n",
              "//\n",
              "// Licensed under the Apache License, Version 2.0 (the \"License\");\n",
              "// you may not use this file except in compliance with the License.\n",
              "// You may obtain a copy of the License at\n",
              "//\n",
              "//      http://www.apache.org/licenses/LICENSE-2.0\n",
              "//\n",
              "// Unless required by applicable law or agreed to in writing, software\n",
              "// distributed under the License is distributed on an \"AS IS\" BASIS,\n",
              "// WITHOUT WARRANTIES OR CONDITIONS OF ANY KIND, either express or implied.\n",
              "// See the License for the specific language governing permissions and\n",
              "// limitations under the License.\n",
              "\n",
              "/**\n",
              " * @fileoverview Helpers for google.colab Python module.\n",
              " */\n",
              "(function(scope) {\n",
              "function span(text, styleAttributes = {}) {\n",
              "  const element = document.createElement('span');\n",
              "  element.textContent = text;\n",
              "  for (const key of Object.keys(styleAttributes)) {\n",
              "    element.style[key] = styleAttributes[key];\n",
              "  }\n",
              "  return element;\n",
              "}\n",
              "\n",
              "// Max number of bytes which will be uploaded at a time.\n",
              "const MAX_PAYLOAD_SIZE = 100 * 1024;\n",
              "\n",
              "function _uploadFiles(inputId, outputId) {\n",
              "  const steps = uploadFilesStep(inputId, outputId);\n",
              "  const outputElement = document.getElementById(outputId);\n",
              "  // Cache steps on the outputElement to make it available for the next call\n",
              "  // to uploadFilesContinue from Python.\n",
              "  outputElement.steps = steps;\n",
              "\n",
              "  return _uploadFilesContinue(outputId);\n",
              "}\n",
              "\n",
              "// This is roughly an async generator (not supported in the browser yet),\n",
              "// where there are multiple asynchronous steps and the Python side is going\n",
              "// to poll for completion of each step.\n",
              "// This uses a Promise to block the python side on completion of each step,\n",
              "// then passes the result of the previous step as the input to the next step.\n",
              "function _uploadFilesContinue(outputId) {\n",
              "  const outputElement = document.getElementById(outputId);\n",
              "  const steps = outputElement.steps;\n",
              "\n",
              "  const next = steps.next(outputElement.lastPromiseValue);\n",
              "  return Promise.resolve(next.value.promise).then((value) => {\n",
              "    // Cache the last promise value to make it available to the next\n",
              "    // step of the generator.\n",
              "    outputElement.lastPromiseValue = value;\n",
              "    return next.value.response;\n",
              "  });\n",
              "}\n",
              "\n",
              "/**\n",
              " * Generator function which is called between each async step of the upload\n",
              " * process.\n",
              " * @param {string} inputId Element ID of the input file picker element.\n",
              " * @param {string} outputId Element ID of the output display.\n",
              " * @return {!Iterable<!Object>} Iterable of next steps.\n",
              " */\n",
              "function* uploadFilesStep(inputId, outputId) {\n",
              "  const inputElement = document.getElementById(inputId);\n",
              "  inputElement.disabled = false;\n",
              "\n",
              "  const outputElement = document.getElementById(outputId);\n",
              "  outputElement.innerHTML = '';\n",
              "\n",
              "  const pickedPromise = new Promise((resolve) => {\n",
              "    inputElement.addEventListener('change', (e) => {\n",
              "      resolve(e.target.files);\n",
              "    });\n",
              "  });\n",
              "\n",
              "  const cancel = document.createElement('button');\n",
              "  inputElement.parentElement.appendChild(cancel);\n",
              "  cancel.textContent = 'Cancel upload';\n",
              "  const cancelPromise = new Promise((resolve) => {\n",
              "    cancel.onclick = () => {\n",
              "      resolve(null);\n",
              "    };\n",
              "  });\n",
              "\n",
              "  // Wait for the user to pick the files.\n",
              "  const files = yield {\n",
              "    promise: Promise.race([pickedPromise, cancelPromise]),\n",
              "    response: {\n",
              "      action: 'starting',\n",
              "    }\n",
              "  };\n",
              "\n",
              "  cancel.remove();\n",
              "\n",
              "  // Disable the input element since further picks are not allowed.\n",
              "  inputElement.disabled = true;\n",
              "\n",
              "  if (!files) {\n",
              "    return {\n",
              "      response: {\n",
              "        action: 'complete',\n",
              "      }\n",
              "    };\n",
              "  }\n",
              "\n",
              "  for (const file of files) {\n",
              "    const li = document.createElement('li');\n",
              "    li.append(span(file.name, {fontWeight: 'bold'}));\n",
              "    li.append(span(\n",
              "        `(${file.type || 'n/a'}) - ${file.size} bytes, ` +\n",
              "        `last modified: ${\n",
              "            file.lastModifiedDate ? file.lastModifiedDate.toLocaleDateString() :\n",
              "                                    'n/a'} - `));\n",
              "    const percent = span('0% done');\n",
              "    li.appendChild(percent);\n",
              "\n",
              "    outputElement.appendChild(li);\n",
              "\n",
              "    const fileDataPromise = new Promise((resolve) => {\n",
              "      const reader = new FileReader();\n",
              "      reader.onload = (e) => {\n",
              "        resolve(e.target.result);\n",
              "      };\n",
              "      reader.readAsArrayBuffer(file);\n",
              "    });\n",
              "    // Wait for the data to be ready.\n",
              "    let fileData = yield {\n",
              "      promise: fileDataPromise,\n",
              "      response: {\n",
              "        action: 'continue',\n",
              "      }\n",
              "    };\n",
              "\n",
              "    // Use a chunked sending to avoid message size limits. See b/62115660.\n",
              "    let position = 0;\n",
              "    do {\n",
              "      const length = Math.min(fileData.byteLength - position, MAX_PAYLOAD_SIZE);\n",
              "      const chunk = new Uint8Array(fileData, position, length);\n",
              "      position += length;\n",
              "\n",
              "      const base64 = btoa(String.fromCharCode.apply(null, chunk));\n",
              "      yield {\n",
              "        response: {\n",
              "          action: 'append',\n",
              "          file: file.name,\n",
              "          data: base64,\n",
              "        },\n",
              "      };\n",
              "\n",
              "      let percentDone = fileData.byteLength === 0 ?\n",
              "          100 :\n",
              "          Math.round((position / fileData.byteLength) * 100);\n",
              "      percent.textContent = `${percentDone}% done`;\n",
              "\n",
              "    } while (position < fileData.byteLength);\n",
              "  }\n",
              "\n",
              "  // All done.\n",
              "  yield {\n",
              "    response: {\n",
              "      action: 'complete',\n",
              "    }\n",
              "  };\n",
              "}\n",
              "\n",
              "scope.google = scope.google || {};\n",
              "scope.google.colab = scope.google.colab || {};\n",
              "scope.google.colab._files = {\n",
              "  _uploadFiles,\n",
              "  _uploadFilesContinue,\n",
              "};\n",
              "})(self);\n",
              "</script> "
            ]
          },
          "metadata": {}
        },
        {
          "output_type": "stream",
          "name": "stdout",
          "text": [
            "Saving charity_data.csv to charity_data.csv\n"
          ]
        }
      ],
      "source": [
        "# Import our dependencies\n",
        "from sklearn.model_selection import train_test_split\n",
        "from sklearn.preprocessing import StandardScaler\n",
        "import pandas as pd\n",
        "import tensorflow as tf\n",
        "\n",
        "#  Import and read the charity_data.csv.\n",
        "from google.colab import files\n",
        "uploaded = files.upload()"
      ]
    },
    {
      "cell_type": "code",
      "source": [
        "application_df = pd.read_csv('charity_data.csv')\n",
        "application_df.head()"
      ],
      "metadata": {
        "colab": {
          "base_uri": "https://localhost:8080/",
          "height": 496
        },
        "id": "KToCdmyVizjM",
        "outputId": "b34d37e2-4d48-4b3b-85ed-8257dd4f8600"
      },
      "execution_count": 2,
      "outputs": [
        {
          "output_type": "execute_result",
          "data": {
            "text/plain": [
              "        EIN                                      NAME APPLICATION_TYPE  \\\n",
              "0  10520599              BLUE KNIGHTS MOTORCYCLE CLUB              T10   \n",
              "1  10531628    AMERICAN CHESAPEAKE CLUB CHARITABLE TR               T3   \n",
              "2  10547893        ST CLOUD PROFESSIONAL FIREFIGHTERS               T5   \n",
              "3  10553066            SOUTHSIDE ATHLETIC ASSOCIATION               T3   \n",
              "4  10556103  GENETIC RESEARCH INSTITUTE OF THE DESERT               T3   \n",
              "\n",
              "        AFFILIATION CLASSIFICATION      USE_CASE  ORGANIZATION  STATUS  \\\n",
              "0       Independent          C1000    ProductDev   Association       1   \n",
              "1       Independent          C2000  Preservation  Co-operative       1   \n",
              "2  CompanySponsored          C3000    ProductDev   Association       1   \n",
              "3  CompanySponsored          C2000  Preservation         Trust       1   \n",
              "4       Independent          C1000     Heathcare         Trust       1   \n",
              "\n",
              "      INCOME_AMT SPECIAL_CONSIDERATIONS  ASK_AMT  IS_SUCCESSFUL  \n",
              "0              0                      N     5000              1  \n",
              "1         1-9999                      N   108590              1  \n",
              "2              0                      N     5000              0  \n",
              "3    10000-24999                      N     6692              1  \n",
              "4  100000-499999                      N   142590              1  "
            ],
            "text/html": [
              "\n",
              "  <div id=\"df-bb5ef975-6623-4158-9ac3-69095a81e9c2\">\n",
              "    <div class=\"colab-df-container\">\n",
              "      <div>\n",
              "<style scoped>\n",
              "    .dataframe tbody tr th:only-of-type {\n",
              "        vertical-align: middle;\n",
              "    }\n",
              "\n",
              "    .dataframe tbody tr th {\n",
              "        vertical-align: top;\n",
              "    }\n",
              "\n",
              "    .dataframe thead th {\n",
              "        text-align: right;\n",
              "    }\n",
              "</style>\n",
              "<table border=\"1\" class=\"dataframe\">\n",
              "  <thead>\n",
              "    <tr style=\"text-align: right;\">\n",
              "      <th></th>\n",
              "      <th>EIN</th>\n",
              "      <th>NAME</th>\n",
              "      <th>APPLICATION_TYPE</th>\n",
              "      <th>AFFILIATION</th>\n",
              "      <th>CLASSIFICATION</th>\n",
              "      <th>USE_CASE</th>\n",
              "      <th>ORGANIZATION</th>\n",
              "      <th>STATUS</th>\n",
              "      <th>INCOME_AMT</th>\n",
              "      <th>SPECIAL_CONSIDERATIONS</th>\n",
              "      <th>ASK_AMT</th>\n",
              "      <th>IS_SUCCESSFUL</th>\n",
              "    </tr>\n",
              "  </thead>\n",
              "  <tbody>\n",
              "    <tr>\n",
              "      <th>0</th>\n",
              "      <td>10520599</td>\n",
              "      <td>BLUE KNIGHTS MOTORCYCLE CLUB</td>\n",
              "      <td>T10</td>\n",
              "      <td>Independent</td>\n",
              "      <td>C1000</td>\n",
              "      <td>ProductDev</td>\n",
              "      <td>Association</td>\n",
              "      <td>1</td>\n",
              "      <td>0</td>\n",
              "      <td>N</td>\n",
              "      <td>5000</td>\n",
              "      <td>1</td>\n",
              "    </tr>\n",
              "    <tr>\n",
              "      <th>1</th>\n",
              "      <td>10531628</td>\n",
              "      <td>AMERICAN CHESAPEAKE CLUB CHARITABLE TR</td>\n",
              "      <td>T3</td>\n",
              "      <td>Independent</td>\n",
              "      <td>C2000</td>\n",
              "      <td>Preservation</td>\n",
              "      <td>Co-operative</td>\n",
              "      <td>1</td>\n",
              "      <td>1-9999</td>\n",
              "      <td>N</td>\n",
              "      <td>108590</td>\n",
              "      <td>1</td>\n",
              "    </tr>\n",
              "    <tr>\n",
              "      <th>2</th>\n",
              "      <td>10547893</td>\n",
              "      <td>ST CLOUD PROFESSIONAL FIREFIGHTERS</td>\n",
              "      <td>T5</td>\n",
              "      <td>CompanySponsored</td>\n",
              "      <td>C3000</td>\n",
              "      <td>ProductDev</td>\n",
              "      <td>Association</td>\n",
              "      <td>1</td>\n",
              "      <td>0</td>\n",
              "      <td>N</td>\n",
              "      <td>5000</td>\n",
              "      <td>0</td>\n",
              "    </tr>\n",
              "    <tr>\n",
              "      <th>3</th>\n",
              "      <td>10553066</td>\n",
              "      <td>SOUTHSIDE ATHLETIC ASSOCIATION</td>\n",
              "      <td>T3</td>\n",
              "      <td>CompanySponsored</td>\n",
              "      <td>C2000</td>\n",
              "      <td>Preservation</td>\n",
              "      <td>Trust</td>\n",
              "      <td>1</td>\n",
              "      <td>10000-24999</td>\n",
              "      <td>N</td>\n",
              "      <td>6692</td>\n",
              "      <td>1</td>\n",
              "    </tr>\n",
              "    <tr>\n",
              "      <th>4</th>\n",
              "      <td>10556103</td>\n",
              "      <td>GENETIC RESEARCH INSTITUTE OF THE DESERT</td>\n",
              "      <td>T3</td>\n",
              "      <td>Independent</td>\n",
              "      <td>C1000</td>\n",
              "      <td>Heathcare</td>\n",
              "      <td>Trust</td>\n",
              "      <td>1</td>\n",
              "      <td>100000-499999</td>\n",
              "      <td>N</td>\n",
              "      <td>142590</td>\n",
              "      <td>1</td>\n",
              "    </tr>\n",
              "  </tbody>\n",
              "</table>\n",
              "</div>\n",
              "      <button class=\"colab-df-convert\" onclick=\"convertToInteractive('df-bb5ef975-6623-4158-9ac3-69095a81e9c2')\"\n",
              "              title=\"Convert this dataframe to an interactive table.\"\n",
              "              style=\"display:none;\">\n",
              "        \n",
              "  <svg xmlns=\"http://www.w3.org/2000/svg\" height=\"24px\"viewBox=\"0 0 24 24\"\n",
              "       width=\"24px\">\n",
              "    <path d=\"M0 0h24v24H0V0z\" fill=\"none\"/>\n",
              "    <path d=\"M18.56 5.44l.94 2.06.94-2.06 2.06-.94-2.06-.94-.94-2.06-.94 2.06-2.06.94zm-11 1L8.5 8.5l.94-2.06 2.06-.94-2.06-.94L8.5 2.5l-.94 2.06-2.06.94zm10 10l.94 2.06.94-2.06 2.06-.94-2.06-.94-.94-2.06-.94 2.06-2.06.94z\"/><path d=\"M17.41 7.96l-1.37-1.37c-.4-.4-.92-.59-1.43-.59-.52 0-1.04.2-1.43.59L10.3 9.45l-7.72 7.72c-.78.78-.78 2.05 0 2.83L4 21.41c.39.39.9.59 1.41.59.51 0 1.02-.2 1.41-.59l7.78-7.78 2.81-2.81c.8-.78.8-2.07 0-2.86zM5.41 20L4 18.59l7.72-7.72 1.47 1.35L5.41 20z\"/>\n",
              "  </svg>\n",
              "      </button>\n",
              "      \n",
              "  <style>\n",
              "    .colab-df-container {\n",
              "      display:flex;\n",
              "      flex-wrap:wrap;\n",
              "      gap: 12px;\n",
              "    }\n",
              "\n",
              "    .colab-df-convert {\n",
              "      background-color: #E8F0FE;\n",
              "      border: none;\n",
              "      border-radius: 50%;\n",
              "      cursor: pointer;\n",
              "      display: none;\n",
              "      fill: #1967D2;\n",
              "      height: 32px;\n",
              "      padding: 0 0 0 0;\n",
              "      width: 32px;\n",
              "    }\n",
              "\n",
              "    .colab-df-convert:hover {\n",
              "      background-color: #E2EBFA;\n",
              "      box-shadow: 0px 1px 2px rgba(60, 64, 67, 0.3), 0px 1px 3px 1px rgba(60, 64, 67, 0.15);\n",
              "      fill: #174EA6;\n",
              "    }\n",
              "\n",
              "    [theme=dark] .colab-df-convert {\n",
              "      background-color: #3B4455;\n",
              "      fill: #D2E3FC;\n",
              "    }\n",
              "\n",
              "    [theme=dark] .colab-df-convert:hover {\n",
              "      background-color: #434B5C;\n",
              "      box-shadow: 0px 1px 3px 1px rgba(0, 0, 0, 0.15);\n",
              "      filter: drop-shadow(0px 1px 2px rgba(0, 0, 0, 0.3));\n",
              "      fill: #FFFFFF;\n",
              "    }\n",
              "  </style>\n",
              "\n",
              "      <script>\n",
              "        const buttonEl =\n",
              "          document.querySelector('#df-bb5ef975-6623-4158-9ac3-69095a81e9c2 button.colab-df-convert');\n",
              "        buttonEl.style.display =\n",
              "          google.colab.kernel.accessAllowed ? 'block' : 'none';\n",
              "\n",
              "        async function convertToInteractive(key) {\n",
              "          const element = document.querySelector('#df-bb5ef975-6623-4158-9ac3-69095a81e9c2');\n",
              "          const dataTable =\n",
              "            await google.colab.kernel.invokeFunction('convertToInteractive',\n",
              "                                                     [key], {});\n",
              "          if (!dataTable) return;\n",
              "\n",
              "          const docLinkHtml = 'Like what you see? Visit the ' +\n",
              "            '<a target=\"_blank\" href=https://colab.research.google.com/notebooks/data_table.ipynb>data table notebook</a>'\n",
              "            + ' to learn more about interactive tables.';\n",
              "          element.innerHTML = '';\n",
              "          dataTable['output_type'] = 'display_data';\n",
              "          await google.colab.output.renderOutput(dataTable, element);\n",
              "          const docLink = document.createElement('div');\n",
              "          docLink.innerHTML = docLinkHtml;\n",
              "          element.appendChild(docLink);\n",
              "        }\n",
              "      </script>\n",
              "    </div>\n",
              "  </div>\n",
              "  "
            ]
          },
          "metadata": {},
          "execution_count": 2
        }
      ]
    },
    {
      "cell_type": "code",
      "execution_count": 3,
      "metadata": {
        "colab": {
          "base_uri": "https://localhost:8080/",
          "height": 288
        },
        "id": "sJjTPDITo9HV",
        "outputId": "37639550-3dec-4da0-c4a4-755b4a603172"
      },
      "outputs": [
        {
          "output_type": "execute_result",
          "data": {
            "text/plain": [
              "  APPLICATION_TYPE       AFFILIATION CLASSIFICATION      USE_CASE  \\\n",
              "0              T10       Independent          C1000    ProductDev   \n",
              "1               T3       Independent          C2000  Preservation   \n",
              "2               T5  CompanySponsored          C3000    ProductDev   \n",
              "3               T3  CompanySponsored          C2000  Preservation   \n",
              "4               T3       Independent          C1000     Heathcare   \n",
              "\n",
              "   ORGANIZATION  STATUS     INCOME_AMT SPECIAL_CONSIDERATIONS  ASK_AMT  \\\n",
              "0   Association       1              0                      N     5000   \n",
              "1  Co-operative       1         1-9999                      N   108590   \n",
              "2   Association       1              0                      N     5000   \n",
              "3         Trust       1    10000-24999                      N     6692   \n",
              "4         Trust       1  100000-499999                      N   142590   \n",
              "\n",
              "   IS_SUCCESSFUL  \n",
              "0              1  \n",
              "1              1  \n",
              "2              0  \n",
              "3              1  \n",
              "4              1  "
            ],
            "text/html": [
              "\n",
              "  <div id=\"df-5921e1d5-be46-47cc-bbdf-5133ea51bf23\">\n",
              "    <div class=\"colab-df-container\">\n",
              "      <div>\n",
              "<style scoped>\n",
              "    .dataframe tbody tr th:only-of-type {\n",
              "        vertical-align: middle;\n",
              "    }\n",
              "\n",
              "    .dataframe tbody tr th {\n",
              "        vertical-align: top;\n",
              "    }\n",
              "\n",
              "    .dataframe thead th {\n",
              "        text-align: right;\n",
              "    }\n",
              "</style>\n",
              "<table border=\"1\" class=\"dataframe\">\n",
              "  <thead>\n",
              "    <tr style=\"text-align: right;\">\n",
              "      <th></th>\n",
              "      <th>APPLICATION_TYPE</th>\n",
              "      <th>AFFILIATION</th>\n",
              "      <th>CLASSIFICATION</th>\n",
              "      <th>USE_CASE</th>\n",
              "      <th>ORGANIZATION</th>\n",
              "      <th>STATUS</th>\n",
              "      <th>INCOME_AMT</th>\n",
              "      <th>SPECIAL_CONSIDERATIONS</th>\n",
              "      <th>ASK_AMT</th>\n",
              "      <th>IS_SUCCESSFUL</th>\n",
              "    </tr>\n",
              "  </thead>\n",
              "  <tbody>\n",
              "    <tr>\n",
              "      <th>0</th>\n",
              "      <td>T10</td>\n",
              "      <td>Independent</td>\n",
              "      <td>C1000</td>\n",
              "      <td>ProductDev</td>\n",
              "      <td>Association</td>\n",
              "      <td>1</td>\n",
              "      <td>0</td>\n",
              "      <td>N</td>\n",
              "      <td>5000</td>\n",
              "      <td>1</td>\n",
              "    </tr>\n",
              "    <tr>\n",
              "      <th>1</th>\n",
              "      <td>T3</td>\n",
              "      <td>Independent</td>\n",
              "      <td>C2000</td>\n",
              "      <td>Preservation</td>\n",
              "      <td>Co-operative</td>\n",
              "      <td>1</td>\n",
              "      <td>1-9999</td>\n",
              "      <td>N</td>\n",
              "      <td>108590</td>\n",
              "      <td>1</td>\n",
              "    </tr>\n",
              "    <tr>\n",
              "      <th>2</th>\n",
              "      <td>T5</td>\n",
              "      <td>CompanySponsored</td>\n",
              "      <td>C3000</td>\n",
              "      <td>ProductDev</td>\n",
              "      <td>Association</td>\n",
              "      <td>1</td>\n",
              "      <td>0</td>\n",
              "      <td>N</td>\n",
              "      <td>5000</td>\n",
              "      <td>0</td>\n",
              "    </tr>\n",
              "    <tr>\n",
              "      <th>3</th>\n",
              "      <td>T3</td>\n",
              "      <td>CompanySponsored</td>\n",
              "      <td>C2000</td>\n",
              "      <td>Preservation</td>\n",
              "      <td>Trust</td>\n",
              "      <td>1</td>\n",
              "      <td>10000-24999</td>\n",
              "      <td>N</td>\n",
              "      <td>6692</td>\n",
              "      <td>1</td>\n",
              "    </tr>\n",
              "    <tr>\n",
              "      <th>4</th>\n",
              "      <td>T3</td>\n",
              "      <td>Independent</td>\n",
              "      <td>C1000</td>\n",
              "      <td>Heathcare</td>\n",
              "      <td>Trust</td>\n",
              "      <td>1</td>\n",
              "      <td>100000-499999</td>\n",
              "      <td>N</td>\n",
              "      <td>142590</td>\n",
              "      <td>1</td>\n",
              "    </tr>\n",
              "  </tbody>\n",
              "</table>\n",
              "</div>\n",
              "      <button class=\"colab-df-convert\" onclick=\"convertToInteractive('df-5921e1d5-be46-47cc-bbdf-5133ea51bf23')\"\n",
              "              title=\"Convert this dataframe to an interactive table.\"\n",
              "              style=\"display:none;\">\n",
              "        \n",
              "  <svg xmlns=\"http://www.w3.org/2000/svg\" height=\"24px\"viewBox=\"0 0 24 24\"\n",
              "       width=\"24px\">\n",
              "    <path d=\"M0 0h24v24H0V0z\" fill=\"none\"/>\n",
              "    <path d=\"M18.56 5.44l.94 2.06.94-2.06 2.06-.94-2.06-.94-.94-2.06-.94 2.06-2.06.94zm-11 1L8.5 8.5l.94-2.06 2.06-.94-2.06-.94L8.5 2.5l-.94 2.06-2.06.94zm10 10l.94 2.06.94-2.06 2.06-.94-2.06-.94-.94-2.06-.94 2.06-2.06.94z\"/><path d=\"M17.41 7.96l-1.37-1.37c-.4-.4-.92-.59-1.43-.59-.52 0-1.04.2-1.43.59L10.3 9.45l-7.72 7.72c-.78.78-.78 2.05 0 2.83L4 21.41c.39.39.9.59 1.41.59.51 0 1.02-.2 1.41-.59l7.78-7.78 2.81-2.81c.8-.78.8-2.07 0-2.86zM5.41 20L4 18.59l7.72-7.72 1.47 1.35L5.41 20z\"/>\n",
              "  </svg>\n",
              "      </button>\n",
              "      \n",
              "  <style>\n",
              "    .colab-df-container {\n",
              "      display:flex;\n",
              "      flex-wrap:wrap;\n",
              "      gap: 12px;\n",
              "    }\n",
              "\n",
              "    .colab-df-convert {\n",
              "      background-color: #E8F0FE;\n",
              "      border: none;\n",
              "      border-radius: 50%;\n",
              "      cursor: pointer;\n",
              "      display: none;\n",
              "      fill: #1967D2;\n",
              "      height: 32px;\n",
              "      padding: 0 0 0 0;\n",
              "      width: 32px;\n",
              "    }\n",
              "\n",
              "    .colab-df-convert:hover {\n",
              "      background-color: #E2EBFA;\n",
              "      box-shadow: 0px 1px 2px rgba(60, 64, 67, 0.3), 0px 1px 3px 1px rgba(60, 64, 67, 0.15);\n",
              "      fill: #174EA6;\n",
              "    }\n",
              "\n",
              "    [theme=dark] .colab-df-convert {\n",
              "      background-color: #3B4455;\n",
              "      fill: #D2E3FC;\n",
              "    }\n",
              "\n",
              "    [theme=dark] .colab-df-convert:hover {\n",
              "      background-color: #434B5C;\n",
              "      box-shadow: 0px 1px 3px 1px rgba(0, 0, 0, 0.15);\n",
              "      filter: drop-shadow(0px 1px 2px rgba(0, 0, 0, 0.3));\n",
              "      fill: #FFFFFF;\n",
              "    }\n",
              "  </style>\n",
              "\n",
              "      <script>\n",
              "        const buttonEl =\n",
              "          document.querySelector('#df-5921e1d5-be46-47cc-bbdf-5133ea51bf23 button.colab-df-convert');\n",
              "        buttonEl.style.display =\n",
              "          google.colab.kernel.accessAllowed ? 'block' : 'none';\n",
              "\n",
              "        async function convertToInteractive(key) {\n",
              "          const element = document.querySelector('#df-5921e1d5-be46-47cc-bbdf-5133ea51bf23');\n",
              "          const dataTable =\n",
              "            await google.colab.kernel.invokeFunction('convertToInteractive',\n",
              "                                                     [key], {});\n",
              "          if (!dataTable) return;\n",
              "\n",
              "          const docLinkHtml = 'Like what you see? Visit the ' +\n",
              "            '<a target=\"_blank\" href=https://colab.research.google.com/notebooks/data_table.ipynb>data table notebook</a>'\n",
              "            + ' to learn more about interactive tables.';\n",
              "          element.innerHTML = '';\n",
              "          dataTable['output_type'] = 'display_data';\n",
              "          await google.colab.output.renderOutput(dataTable, element);\n",
              "          const docLink = document.createElement('div');\n",
              "          docLink.innerHTML = docLinkHtml;\n",
              "          element.appendChild(docLink);\n",
              "        }\n",
              "      </script>\n",
              "    </div>\n",
              "  </div>\n",
              "  "
            ]
          },
          "metadata": {},
          "execution_count": 3
        }
      ],
      "source": [
        "# Drop the non-beneficial ID columns, 'EIN' and 'NAME'.\n",
        "application_df = application_df.drop(columns=['EIN','NAME'])\n",
        "application_df.head()"
      ]
    },
    {
      "cell_type": "code",
      "execution_count": 4,
      "metadata": {
        "colab": {
          "base_uri": "https://localhost:8080/"
        },
        "id": "-_rlffzAo9HV",
        "outputId": "46e4f572-c866-4550-a8a1-097f288ea886"
      },
      "outputs": [
        {
          "output_type": "execute_result",
          "data": {
            "text/plain": [
              "APPLICATION_TYPE            17\n",
              "AFFILIATION                  6\n",
              "CLASSIFICATION              71\n",
              "USE_CASE                     5\n",
              "ORGANIZATION                 4\n",
              "STATUS                       2\n",
              "INCOME_AMT                   9\n",
              "SPECIAL_CONSIDERATIONS       2\n",
              "ASK_AMT                   8747\n",
              "IS_SUCCESSFUL                2\n",
              "dtype: int64"
            ]
          },
          "metadata": {},
          "execution_count": 4
        }
      ],
      "source": [
        "# Determine the number of unique values in each column.\n",
        "application_df.nunique()"
      ]
    },
    {
      "cell_type": "code",
      "execution_count": 5,
      "metadata": {
        "colab": {
          "base_uri": "https://localhost:8080/"
        },
        "id": "UyUdgrE4o9HW",
        "outputId": "2ba9c75b-9b51-420e-9da5-d11240755b04"
      },
      "outputs": [
        {
          "output_type": "execute_result",
          "data": {
            "text/plain": [
              "T3     27037\n",
              "T4      1542\n",
              "T6      1216\n",
              "T5      1173\n",
              "T19     1065\n",
              "T8       737\n",
              "T7       725\n",
              "T10      528\n",
              "T9       156\n",
              "T13       66\n",
              "T12       27\n",
              "T2        16\n",
              "T25        3\n",
              "T14        3\n",
              "T29        2\n",
              "T15        2\n",
              "T17        1\n",
              "Name: APPLICATION_TYPE, dtype: int64"
            ]
          },
          "metadata": {},
          "execution_count": 5
        }
      ],
      "source": [
        "# Look at APPLICATION_TYPE value counts for binning\n",
        "app_types = application_df['APPLICATION_TYPE'].value_counts()\n",
        "app_types"
      ]
    },
    {
      "cell_type": "code",
      "source": [
        "# Choose a cutoff value and create a list of application types to be replaced\n",
        "# use the variable name `application_types_to_replace`\n",
        "\n",
        "#choosing types with values less than 500\n",
        "\n",
        "application_types_to_replace = []\n",
        "\n",
        "for index, value in app_types.items():\n",
        "  if value < 500:\n",
        "    application_types_to_replace.append(index)\n",
        "    print(f\"Index : {index}, Value : {value}\")\n",
        "\n",
        "\n",
        "application_types_to_replace"
      ],
      "metadata": {
        "colab": {
          "base_uri": "https://localhost:8080/"
        },
        "id": "_DFvuotRqAZT",
        "outputId": "bb88b406-67cd-425c-e603-63f18fe1a9f7"
      },
      "execution_count": 6,
      "outputs": [
        {
          "output_type": "stream",
          "name": "stdout",
          "text": [
            "Index : T9, Value : 156\n",
            "Index : T13, Value : 66\n",
            "Index : T12, Value : 27\n",
            "Index : T2, Value : 16\n",
            "Index : T25, Value : 3\n",
            "Index : T14, Value : 3\n",
            "Index : T29, Value : 2\n",
            "Index : T15, Value : 2\n",
            "Index : T17, Value : 1\n"
          ]
        },
        {
          "output_type": "execute_result",
          "data": {
            "text/plain": [
              "['T9', 'T13', 'T12', 'T2', 'T25', 'T14', 'T29', 'T15', 'T17']"
            ]
          },
          "metadata": {},
          "execution_count": 6
        }
      ]
    },
    {
      "cell_type": "code",
      "execution_count": 7,
      "metadata": {
        "colab": {
          "base_uri": "https://localhost:8080/"
        },
        "id": "TJ5bF_XPo9HW",
        "outputId": "45518c03-c0c6-45cb-fd2d-2cd55b0c4e4b"
      },
      "outputs": [
        {
          "output_type": "execute_result",
          "data": {
            "text/plain": [
              "T3       27037\n",
              "T4        1542\n",
              "T6        1216\n",
              "T5        1173\n",
              "T19       1065\n",
              "T8         737\n",
              "T7         725\n",
              "T10        528\n",
              "Other      276\n",
              "Name: APPLICATION_TYPE, dtype: int64"
            ]
          },
          "metadata": {},
          "execution_count": 7
        }
      ],
      "source": [
        "# Replace in dataframe\n",
        "for app in application_types_to_replace:\n",
        "    application_df['APPLICATION_TYPE'] = application_df['APPLICATION_TYPE'].replace(app,\"Other\")\n",
        "\n",
        "# Check to make sure binning was successful\n",
        "application_df['APPLICATION_TYPE'].value_counts()"
      ]
    },
    {
      "cell_type": "code",
      "source": [],
      "metadata": {
        "id": "JtAv625T_Bmc"
      },
      "execution_count": null,
      "outputs": []
    },
    {
      "cell_type": "code",
      "execution_count": 8,
      "metadata": {
        "colab": {
          "base_uri": "https://localhost:8080/"
        },
        "id": "IahLszLuo9HW",
        "outputId": "405788c2-c45f-4085-ddc3-ff266dc950d4"
      },
      "outputs": [
        {
          "output_type": "execute_result",
          "data": {
            "text/plain": [
              "C1000    17326\n",
              "C2000     6074\n",
              "C1200     4837\n",
              "C3000     1918\n",
              "C2100     1883\n",
              "         ...  \n",
              "C4120        1\n",
              "C8210        1\n",
              "C2561        1\n",
              "C4500        1\n",
              "C2150        1\n",
              "Name: CLASSIFICATION, Length: 71, dtype: int64"
            ]
          },
          "metadata": {},
          "execution_count": 8
        }
      ],
      "source": [
        "# Look at CLASSIFICATION value counts for binning\n",
        "class_types = application_df['CLASSIFICATION'].value_counts()\n",
        "class_types"
      ]
    },
    {
      "cell_type": "code",
      "execution_count": 9,
      "metadata": {
        "colab": {
          "base_uri": "https://localhost:8080/"
        },
        "id": "KlDQiXIao9HW",
        "outputId": "0a4d6da7-6c00-4070-eae4-f2db56d6ae2f"
      },
      "outputs": [
        {
          "output_type": "stream",
          "name": "stdout",
          "text": [
            "Index : C1000, Value : 17326\n",
            "Index : C2000, Value : 6074\n",
            "Index : C1200, Value : 4837\n",
            "Index : C3000, Value : 1918\n",
            "Index : C2100, Value : 1883\n",
            "Index : C7000, Value : 777\n",
            "Index : C1700, Value : 287\n",
            "Index : C4000, Value : 194\n",
            "Index : C5000, Value : 116\n",
            "Index : C1270, Value : 114\n",
            "Index : C2700, Value : 104\n",
            "Index : C2800, Value : 95\n",
            "Index : C7100, Value : 75\n",
            "Index : C1300, Value : 58\n",
            "Index : C1280, Value : 50\n",
            "Index : C1230, Value : 36\n",
            "Index : C1400, Value : 34\n",
            "Index : C7200, Value : 32\n",
            "Index : C2300, Value : 32\n",
            "Index : C1240, Value : 30\n",
            "Index : C8000, Value : 20\n",
            "Index : C7120, Value : 18\n",
            "Index : C1500, Value : 16\n",
            "Index : C1800, Value : 15\n",
            "Index : C6000, Value : 15\n",
            "Index : C1250, Value : 14\n",
            "Index : C8200, Value : 11\n",
            "Index : C1238, Value : 10\n",
            "Index : C1278, Value : 10\n",
            "Index : C1235, Value : 9\n",
            "Index : C1237, Value : 9\n",
            "Index : C7210, Value : 7\n",
            "Index : C2400, Value : 6\n",
            "Index : C1720, Value : 6\n",
            "Index : C4100, Value : 6\n",
            "Index : C1257, Value : 5\n",
            "Index : C1600, Value : 5\n",
            "Index : C1260, Value : 3\n",
            "Index : C2710, Value : 3\n",
            "Index : C0, Value : 3\n",
            "Index : C3200, Value : 2\n",
            "Index : C1234, Value : 2\n",
            "Index : C1246, Value : 2\n",
            "Index : C1267, Value : 2\n",
            "Index : C1256, Value : 2\n"
          ]
        }
      ],
      "source": [
        "# You may find it helpful to look at CLASSIFICATION value counts >1\n",
        "for index, value in class_types.items():\n",
        "  if value > 1:\n",
        "    print(f\"Index : {index}, Value : {value}\")"
      ]
    },
    {
      "cell_type": "code",
      "execution_count": 10,
      "metadata": {
        "colab": {
          "base_uri": "https://localhost:8080/"
        },
        "id": "KR6VhpUdo9HX",
        "outputId": "75d0a061-056a-40fa-b843-6d374ff9a5be"
      },
      "outputs": [
        {
          "output_type": "execute_result",
          "data": {
            "text/plain": [
              "C1000    17326\n",
              "C2000     6074\n",
              "C1200     4837\n",
              "C3000     1918\n",
              "C2100     1883\n",
              "C7000      777\n",
              "Other      669\n",
              "C1700      287\n",
              "C4000      194\n",
              "C5000      116\n",
              "C1270      114\n",
              "C2700      104\n",
              "Name: CLASSIFICATION, dtype: int64"
            ]
          },
          "metadata": {},
          "execution_count": 10
        }
      ],
      "source": [
        "# Choose a cutoff value and create a list of classifications to be replaced\n",
        "# use the variable name `classifications_to_replace`\n",
        "\n",
        "# binning everything with less than 100 rows\n",
        "classifications_to_replace = []\n",
        "for index, value in class_types.items():\n",
        "  if value < 100:\n",
        "    classifications_to_replace.append(index)\n",
        "\n",
        "# Replace in dataframe\n",
        "for cls in classifications_to_replace:\n",
        "    application_df['CLASSIFICATION'] = application_df['CLASSIFICATION'].replace(cls,\"Other\")\n",
        "    \n",
        "# Check to make sure binning was successful\n",
        "application_df['CLASSIFICATION'].value_counts()"
      ]
    },
    {
      "cell_type": "code",
      "execution_count": 11,
      "metadata": {
        "colab": {
          "base_uri": "https://localhost:8080/"
        },
        "id": "dDPKRi6Bo9HX",
        "outputId": "3e981e8b-7a7d-4c74-a392-308d72d74177"
      },
      "outputs": [
        {
          "output_type": "stream",
          "name": "stdout",
          "text": [
            "APPLICATION_TYPE\n",
            "AFFILIATION\n",
            "CLASSIFICATION\n",
            "USE_CASE\n",
            "ORGANIZATION\n",
            "INCOME_AMT\n",
            "SPECIAL_CONSIDERATIONS\n"
          ]
        },
        {
          "output_type": "stream",
          "name": "stderr",
          "text": [
            "/usr/local/lib/python3.7/dist-packages/ipykernel_launcher.py:7: FutureWarning: Passing 'suffixes' which cause duplicate columns {'Other_x'} in the result is deprecated and will raise a MergeError in a future version.\n",
            "  import sys\n"
          ]
        }
      ],
      "source": [
        "# Convert categorical data to numeric with `pd.get_dummies`\n",
        "types = application_df.dtypes\n",
        "for index, value in types.items():\n",
        "  if value == 'object':\n",
        "    print(index)\n",
        "    ohe = pd.get_dummies(application_df[index])\n",
        "    application_df = pd.merge(application_df, ohe, left_index=True, right_index=True)\n",
        "    application_df = application_df.drop(columns=[index])"
      ]
    },
    {
      "cell_type": "code",
      "source": [
        "application_df.dtypes"
      ],
      "metadata": {
        "colab": {
          "base_uri": "https://localhost:8080/"
        },
        "id": "vdFmj6VSvHRs",
        "outputId": "616a5f18-08ce-4dc5-deba-358041525406"
      },
      "execution_count": 12,
      "outputs": [
        {
          "output_type": "execute_result",
          "data": {
            "text/plain": [
              "STATUS              int64\n",
              "ASK_AMT             int64\n",
              "IS_SUCCESSFUL       int64\n",
              "Other_x             uint8\n",
              "T10                 uint8\n",
              "T19                 uint8\n",
              "T3                  uint8\n",
              "T4                  uint8\n",
              "T5                  uint8\n",
              "T6                  uint8\n",
              "T7                  uint8\n",
              "T8                  uint8\n",
              "CompanySponsored    uint8\n",
              "Family/Parent       uint8\n",
              "Independent         uint8\n",
              "National            uint8\n",
              "Other_y             uint8\n",
              "Regional            uint8\n",
              "C1000               uint8\n",
              "C1200               uint8\n",
              "C1270               uint8\n",
              "C1700               uint8\n",
              "C2000               uint8\n",
              "C2100               uint8\n",
              "C2700               uint8\n",
              "C3000               uint8\n",
              "C4000               uint8\n",
              "C5000               uint8\n",
              "C7000               uint8\n",
              "Other_x             uint8\n",
              "CommunityServ       uint8\n",
              "Heathcare           uint8\n",
              "Other_y             uint8\n",
              "Preservation        uint8\n",
              "ProductDev          uint8\n",
              "Association         uint8\n",
              "Co-operative        uint8\n",
              "Corporation         uint8\n",
              "Trust               uint8\n",
              "0                   uint8\n",
              "1-9999              uint8\n",
              "10000-24999         uint8\n",
              "100000-499999       uint8\n",
              "10M-50M             uint8\n",
              "1M-5M               uint8\n",
              "25000-99999         uint8\n",
              "50M+                uint8\n",
              "5M-10M              uint8\n",
              "N                   uint8\n",
              "Y                   uint8\n",
              "dtype: object"
            ]
          },
          "metadata": {},
          "execution_count": 12
        }
      ]
    },
    {
      "cell_type": "code",
      "execution_count": 13,
      "metadata": {
        "id": "IU6aTCqjo9HX"
      },
      "outputs": [],
      "source": [
        "# Split our preprocessed data into our features and target arrays\n",
        "target = application_df['IS_SUCCESSFUL']\n",
        "data = application_df.drop(columns=['IS_SUCCESSFUL'])\n",
        "# Split the preprocessed data into a training and testing dataset\n",
        "X_train, X_test, y_train, y_test = train_test_split(data, target)"
      ]
    },
    {
      "cell_type": "code",
      "execution_count": 14,
      "metadata": {
        "id": "_RTGBh61o9HY"
      },
      "outputs": [],
      "source": [
        "# Create a StandardScaler instances\n",
        "scaler = StandardScaler()\n",
        "\n",
        "# Fit the StandardScaler\n",
        "X_scaler = scaler.fit(X_train)\n",
        "\n",
        "# Scale the data\n",
        "X_train_scaled = X_scaler.transform(X_train)\n",
        "X_test_scaled = X_scaler.transform(X_test)"
      ]
    },
    {
      "cell_type": "markdown",
      "metadata": {
        "id": "TBrfqcRuo9HY"
      },
      "source": [
        "## Compile, Train and Evaluate the Model"
      ]
    },
    {
      "cell_type": "code",
      "source": [
        "# Define the model - deep neural net, i.e., the number of input features and hidden nodes for each layer.\n",
        "inputs = X_train_scaled.shape[1]\n",
        "inputs"
      ],
      "metadata": {
        "colab": {
          "base_uri": "https://localhost:8080/"
        },
        "id": "1dHeaS1g-Fdk",
        "outputId": "915aed84-1252-4b71-c05c-0929802457c1"
      },
      "execution_count": 15,
      "outputs": [
        {
          "output_type": "execute_result",
          "data": {
            "text/plain": [
              "49"
            ]
          },
          "metadata": {},
          "execution_count": 15
        }
      ]
    },
    {
      "cell_type": "code",
      "execution_count": 16,
      "metadata": {
        "id": "hJYwAio1o9HY",
        "colab": {
          "base_uri": "https://localhost:8080/"
        },
        "outputId": "1dc8b3c8-867e-4907-f027-dd4f208963c2"
      },
      "outputs": [
        {
          "output_type": "stream",
          "name": "stdout",
          "text": [
            "Model: \"sequential\"\n",
            "_________________________________________________________________\n",
            " Layer (type)                Output Shape              Param #   \n",
            "=================================================================\n",
            " dense (Dense)               (None, 200)               10000     \n",
            "                                                                 \n",
            " dense_1 (Dense)             (None, 150)               30150     \n",
            "                                                                 \n",
            " dense_2 (Dense)             (None, 1)                 151       \n",
            "                                                                 \n",
            "=================================================================\n",
            "Total params: 40,301\n",
            "Trainable params: 40,301\n",
            "Non-trainable params: 0\n",
            "_________________________________________________________________\n"
          ]
        }
      ],
      "source": [
        "\n",
        "nn = tf.keras.models.Sequential()\n",
        "\n",
        "# First hidden layer\n",
        "nn.add(tf.keras.layers.Dense(units=200, activation=\"relu\",input_dim=inputs))\n",
        "\n",
        "# Second hidden layer\n",
        "nn.add(tf.keras.layers.Dense(units=150, activation=\"relu\"))\n",
        "\n",
        "# Output layer\n",
        "nn.add(tf.keras.layers.Dense(units=1,activation=\"sigmoid\"))\n",
        "\n",
        "# Check the structure of the model\n",
        "nn.summary()"
      ]
    },
    {
      "cell_type": "code",
      "execution_count": 25,
      "metadata": {
        "id": "W3tg60zSo9HY"
      },
      "outputs": [],
      "source": [
        "# Compile the model\n",
        "nn.compile(loss=\"binary_crossentropy\",optimizer=\"adam\",metrics=['accuracy'])"
      ]
    },
    {
      "cell_type": "code",
      "execution_count": 26,
      "metadata": {
        "id": "6BIyd2VCo9HY",
        "colab": {
          "base_uri": "https://localhost:8080/"
        },
        "outputId": "b22d1b1e-9fe9-45c2-a97b-2d78099e9e1d"
      },
      "outputs": [
        {
          "output_type": "stream",
          "name": "stdout",
          "text": [
            "Epoch 1/100\n",
            "804/804 [==============================] - 3s 3ms/step - loss: 0.5341 - accuracy: 0.7405\n",
            "Epoch 2/100\n",
            "804/804 [==============================] - 3s 3ms/step - loss: 0.5319 - accuracy: 0.7400\n",
            "Epoch 3/100\n",
            "804/804 [==============================] - 3s 3ms/step - loss: 0.5306 - accuracy: 0.7407\n",
            "Epoch 4/100\n",
            "804/804 [==============================] - 3s 3ms/step - loss: 0.5314 - accuracy: 0.7402\n",
            "Epoch 5/100\n",
            "804/804 [==============================] - 3s 3ms/step - loss: 0.5335 - accuracy: 0.7399\n",
            "Epoch 6/100\n",
            "804/804 [==============================] - 2s 3ms/step - loss: 0.5323 - accuracy: 0.7396\n",
            "Epoch 7/100\n",
            "804/804 [==============================] - 3s 3ms/step - loss: 0.5311 - accuracy: 0.7402\n",
            "Epoch 8/100\n",
            "804/804 [==============================] - 3s 3ms/step - loss: 0.5308 - accuracy: 0.7404\n",
            "Epoch 9/100\n",
            "804/804 [==============================] - 3s 3ms/step - loss: 0.5303 - accuracy: 0.7400\n",
            "Epoch 10/100\n",
            "804/804 [==============================] - 3s 3ms/step - loss: 0.5308 - accuracy: 0.7409\n",
            "Epoch 11/100\n",
            "804/804 [==============================] - 3s 3ms/step - loss: 0.5311 - accuracy: 0.7407\n",
            "Epoch 12/100\n",
            "804/804 [==============================] - 3s 3ms/step - loss: 0.5308 - accuracy: 0.7403\n",
            "Epoch 13/100\n",
            "804/804 [==============================] - 3s 3ms/step - loss: 0.5319 - accuracy: 0.7407\n",
            "Epoch 14/100\n",
            "804/804 [==============================] - 3s 3ms/step - loss: 0.5311 - accuracy: 0.7398\n",
            "Epoch 15/100\n",
            "804/804 [==============================] - 2s 3ms/step - loss: 0.5328 - accuracy: 0.7406\n",
            "Epoch 16/100\n",
            "804/804 [==============================] - 3s 3ms/step - loss: 0.5311 - accuracy: 0.7402\n",
            "Epoch 17/100\n",
            "804/804 [==============================] - 3s 4ms/step - loss: 0.5306 - accuracy: 0.7405\n",
            "Epoch 18/100\n",
            "804/804 [==============================] - 3s 3ms/step - loss: 0.5302 - accuracy: 0.7401\n",
            "Epoch 19/100\n",
            "804/804 [==============================] - 2s 3ms/step - loss: 0.5308 - accuracy: 0.7406\n",
            "Epoch 20/100\n",
            "804/804 [==============================] - 3s 3ms/step - loss: 0.5310 - accuracy: 0.7396\n",
            "Epoch 21/100\n",
            "804/804 [==============================] - 3s 4ms/step - loss: 0.5308 - accuracy: 0.7401\n",
            "Epoch 22/100\n",
            "804/804 [==============================] - 4s 5ms/step - loss: 0.5304 - accuracy: 0.7406\n",
            "Epoch 23/100\n",
            "804/804 [==============================] - 3s 4ms/step - loss: 0.5303 - accuracy: 0.7400\n",
            "Epoch 24/100\n",
            "804/804 [==============================] - 3s 4ms/step - loss: 0.5304 - accuracy: 0.7406\n",
            "Epoch 25/100\n",
            "804/804 [==============================] - 3s 4ms/step - loss: 0.5307 - accuracy: 0.7404\n",
            "Epoch 26/100\n",
            "804/804 [==============================] - 3s 4ms/step - loss: 0.5308 - accuracy: 0.7390\n",
            "Epoch 27/100\n",
            "804/804 [==============================] - 3s 4ms/step - loss: 0.5335 - accuracy: 0.7403\n",
            "Epoch 28/100\n",
            "804/804 [==============================] - 3s 4ms/step - loss: 0.5308 - accuracy: 0.7406\n",
            "Epoch 29/100\n",
            "804/804 [==============================] - 3s 4ms/step - loss: 0.5309 - accuracy: 0.7414\n",
            "Epoch 30/100\n",
            "804/804 [==============================] - 3s 3ms/step - loss: 0.5313 - accuracy: 0.7405\n",
            "Epoch 31/100\n",
            "804/804 [==============================] - 3s 4ms/step - loss: 0.5303 - accuracy: 0.7403\n",
            "Epoch 32/100\n",
            "804/804 [==============================] - 3s 3ms/step - loss: 0.5305 - accuracy: 0.7409\n",
            "Epoch 33/100\n",
            "804/804 [==============================] - 3s 3ms/step - loss: 0.5306 - accuracy: 0.7407\n",
            "Epoch 34/100\n",
            "804/804 [==============================] - 3s 4ms/step - loss: 0.5301 - accuracy: 0.7407\n",
            "Epoch 35/100\n",
            "804/804 [==============================] - 3s 3ms/step - loss: 0.5304 - accuracy: 0.7407\n",
            "Epoch 36/100\n",
            "804/804 [==============================] - 3s 4ms/step - loss: 0.5301 - accuracy: 0.7403\n",
            "Epoch 37/100\n",
            "804/804 [==============================] - 3s 4ms/step - loss: 0.5327 - accuracy: 0.7404\n",
            "Epoch 38/100\n",
            "804/804 [==============================] - 3s 4ms/step - loss: 0.5337 - accuracy: 0.7404\n",
            "Epoch 39/100\n",
            "804/804 [==============================] - 3s 4ms/step - loss: 0.5300 - accuracy: 0.7408\n",
            "Epoch 40/100\n",
            "804/804 [==============================] - 3s 4ms/step - loss: 0.5295 - accuracy: 0.7409\n",
            "Epoch 41/100\n",
            "804/804 [==============================] - 3s 3ms/step - loss: 0.5297 - accuracy: 0.7404\n",
            "Epoch 42/100\n",
            "804/804 [==============================] - 3s 3ms/step - loss: 0.5304 - accuracy: 0.7402\n",
            "Epoch 43/100\n",
            "804/804 [==============================] - 3s 3ms/step - loss: 0.5301 - accuracy: 0.7404\n",
            "Epoch 44/100\n",
            "804/804 [==============================] - 3s 3ms/step - loss: 0.5305 - accuracy: 0.7402\n",
            "Epoch 45/100\n",
            "804/804 [==============================] - 4s 5ms/step - loss: 0.5303 - accuracy: 0.7409\n",
            "Epoch 46/100\n",
            "804/804 [==============================] - 3s 3ms/step - loss: 0.5300 - accuracy: 0.7406\n",
            "Epoch 47/100\n",
            "804/804 [==============================] - 3s 4ms/step - loss: 0.5296 - accuracy: 0.7402\n",
            "Epoch 48/100\n",
            "804/804 [==============================] - 3s 4ms/step - loss: 0.5306 - accuracy: 0.7408\n",
            "Epoch 49/100\n",
            "804/804 [==============================] - 3s 3ms/step - loss: 0.5307 - accuracy: 0.7406\n",
            "Epoch 50/100\n",
            "804/804 [==============================] - 3s 3ms/step - loss: 0.5328 - accuracy: 0.7402\n",
            "Epoch 51/100\n",
            "804/804 [==============================] - 3s 3ms/step - loss: 0.5302 - accuracy: 0.7409\n",
            "Epoch 52/100\n",
            "804/804 [==============================] - 3s 3ms/step - loss: 0.5306 - accuracy: 0.7402\n",
            "Epoch 53/100\n",
            "804/804 [==============================] - 3s 3ms/step - loss: 0.5300 - accuracy: 0.7409\n",
            "Epoch 54/100\n",
            "804/804 [==============================] - 3s 3ms/step - loss: 0.5300 - accuracy: 0.7409\n",
            "Epoch 55/100\n",
            "804/804 [==============================] - 3s 3ms/step - loss: 0.5300 - accuracy: 0.7411\n",
            "Epoch 56/100\n",
            "804/804 [==============================] - 3s 4ms/step - loss: 0.5296 - accuracy: 0.7402\n",
            "Epoch 57/100\n",
            "804/804 [==============================] - 3s 4ms/step - loss: 0.5300 - accuracy: 0.7395\n",
            "Epoch 58/100\n",
            "804/804 [==============================] - 3s 4ms/step - loss: 0.5299 - accuracy: 0.7411\n",
            "Epoch 59/100\n",
            "804/804 [==============================] - 3s 4ms/step - loss: 0.5303 - accuracy: 0.7410\n",
            "Epoch 60/100\n",
            "804/804 [==============================] - 3s 4ms/step - loss: 0.5301 - accuracy: 0.7406\n",
            "Epoch 61/100\n",
            "804/804 [==============================] - 3s 4ms/step - loss: 0.5302 - accuracy: 0.7406\n",
            "Epoch 62/100\n",
            "804/804 [==============================] - 3s 4ms/step - loss: 0.5345 - accuracy: 0.7402\n",
            "Epoch 63/100\n",
            "804/804 [==============================] - 3s 4ms/step - loss: 0.5323 - accuracy: 0.7407\n",
            "Epoch 64/100\n",
            "804/804 [==============================] - 3s 4ms/step - loss: 0.5298 - accuracy: 0.7408\n",
            "Epoch 65/100\n",
            "804/804 [==============================] - 3s 3ms/step - loss: 0.5290 - accuracy: 0.7407\n",
            "Epoch 66/100\n",
            "804/804 [==============================] - 3s 4ms/step - loss: 0.5298 - accuracy: 0.7415\n",
            "Epoch 67/100\n",
            "804/804 [==============================] - 4s 5ms/step - loss: 0.5301 - accuracy: 0.7405\n",
            "Epoch 68/100\n",
            "804/804 [==============================] - 3s 4ms/step - loss: 0.5296 - accuracy: 0.7411\n",
            "Epoch 69/100\n",
            "804/804 [==============================] - 3s 4ms/step - loss: 0.5294 - accuracy: 0.7405\n",
            "Epoch 70/100\n",
            "804/804 [==============================] - 3s 3ms/step - loss: 0.5295 - accuracy: 0.7406\n",
            "Epoch 71/100\n",
            "804/804 [==============================] - 3s 3ms/step - loss: 0.5297 - accuracy: 0.7405\n",
            "Epoch 72/100\n",
            "804/804 [==============================] - 3s 3ms/step - loss: 0.5315 - accuracy: 0.7403\n",
            "Epoch 73/100\n",
            "804/804 [==============================] - 3s 3ms/step - loss: 0.5300 - accuracy: 0.7416\n",
            "Epoch 74/100\n",
            "804/804 [==============================] - 3s 3ms/step - loss: 0.5294 - accuracy: 0.7406\n",
            "Epoch 75/100\n",
            "804/804 [==============================] - 3s 3ms/step - loss: 0.5299 - accuracy: 0.7412\n",
            "Epoch 76/100\n",
            "804/804 [==============================] - 3s 3ms/step - loss: 0.5294 - accuracy: 0.7412\n",
            "Epoch 77/100\n",
            "804/804 [==============================] - 3s 3ms/step - loss: 0.5295 - accuracy: 0.7407\n",
            "Epoch 78/100\n",
            "804/804 [==============================] - 3s 3ms/step - loss: 0.5301 - accuracy: 0.7406\n",
            "Epoch 79/100\n",
            "804/804 [==============================] - 4s 5ms/step - loss: 0.5366 - accuracy: 0.7402\n",
            "Epoch 80/100\n",
            "804/804 [==============================] - 3s 3ms/step - loss: 0.5307 - accuracy: 0.7410\n",
            "Epoch 81/100\n",
            "804/804 [==============================] - 3s 3ms/step - loss: 0.5302 - accuracy: 0.7404\n",
            "Epoch 82/100\n",
            "804/804 [==============================] - 3s 3ms/step - loss: 0.5291 - accuracy: 0.7409\n",
            "Epoch 83/100\n",
            "804/804 [==============================] - 3s 3ms/step - loss: 0.5289 - accuracy: 0.7409\n",
            "Epoch 84/100\n",
            "804/804 [==============================] - 3s 3ms/step - loss: 0.5288 - accuracy: 0.7409\n",
            "Epoch 85/100\n",
            "804/804 [==============================] - 3s 3ms/step - loss: 0.5292 - accuracy: 0.7407\n",
            "Epoch 86/100\n",
            "804/804 [==============================] - 3s 3ms/step - loss: 0.5293 - accuracy: 0.7405\n",
            "Epoch 87/100\n",
            "804/804 [==============================] - 3s 3ms/step - loss: 0.5291 - accuracy: 0.7407\n",
            "Epoch 88/100\n",
            "804/804 [==============================] - 3s 3ms/step - loss: 0.5299 - accuracy: 0.7405\n",
            "Epoch 89/100\n",
            "804/804 [==============================] - 3s 3ms/step - loss: 0.5342 - accuracy: 0.7401\n",
            "Epoch 90/100\n",
            "804/804 [==============================] - 5s 7ms/step - loss: 0.5308 - accuracy: 0.7404\n",
            "Epoch 91/100\n",
            "804/804 [==============================] - 6s 7ms/step - loss: 0.5291 - accuracy: 0.7406\n",
            "Epoch 92/100\n",
            "804/804 [==============================] - 7s 8ms/step - loss: 0.5304 - accuracy: 0.7409\n",
            "Epoch 93/100\n",
            "804/804 [==============================] - 6s 7ms/step - loss: 0.5302 - accuracy: 0.7406\n",
            "Epoch 94/100\n",
            "804/804 [==============================] - 6s 8ms/step - loss: 0.5295 - accuracy: 0.7412\n",
            "Epoch 95/100\n",
            "804/804 [==============================] - 3s 4ms/step - loss: 0.5293 - accuracy: 0.7406\n",
            "Epoch 96/100\n",
            "804/804 [==============================] - 4s 5ms/step - loss: 0.5298 - accuracy: 0.7407\n",
            "Epoch 97/100\n",
            "804/804 [==============================] - 4s 5ms/step - loss: 0.5295 - accuracy: 0.7404\n",
            "Epoch 98/100\n",
            "804/804 [==============================] - 3s 4ms/step - loss: 0.5299 - accuracy: 0.7406\n",
            "Epoch 99/100\n",
            "804/804 [==============================] - 3s 4ms/step - loss: 0.5296 - accuracy: 0.7408\n",
            "Epoch 100/100\n",
            "804/804 [==============================] - 3s 4ms/step - loss: 0.5303 - accuracy: 0.7403\n"
          ]
        }
      ],
      "source": [
        "# Train the model\n",
        "fit_model = nn.fit(X_train_scaled, y_train, epochs=100)"
      ]
    },
    {
      "cell_type": "code",
      "execution_count": 27,
      "metadata": {
        "id": "2p_tAngso9HZ",
        "colab": {
          "base_uri": "https://localhost:8080/"
        },
        "outputId": "21d68412-7ce7-4d19-adfe-67ad243c0822"
      },
      "outputs": [
        {
          "output_type": "stream",
          "name": "stdout",
          "text": [
            "268/268 - 1s - loss: 0.5982 - accuracy: 0.7326 - 553ms/epoch - 2ms/step\n",
            "Loss: 0.5982071161270142, Accuracy: 0.7325947284698486\n"
          ]
        }
      ],
      "source": [
        "# Evaluate the model using the test data\n",
        "model_loss, model_accuracy = nn.evaluate(X_test_scaled,y_test,verbose=2)\n",
        "print(f\"Loss: {model_loss}, Accuracy: {model_accuracy}\")"
      ]
    },
    {
      "cell_type": "code",
      "execution_count": 28,
      "metadata": {
        "id": "ipo5ycOKo9HZ"
      },
      "outputs": [],
      "source": [
        "# Export our model to HDF5 file\n",
        "nn.save(\"AlphabetSoupCharity.h5\")"
      ]
    },
    {
      "cell_type": "markdown",
      "source": [
        "First run: one layer with 150 nodes  \n",
        "268/268 - 0s - loss: 0.5620 - accuracy: 0.7318 - 364ms/epoch - 1ms/step  \n",
        "Loss: 0.5619537234306335, Accuracy: 0.7317784428596497\n",
        "\n",
        "Second run: two layers with 150 nodes  \n",
        "268/268 - 1s - loss: 0.7621 - accuracy: 0.7308 - 526ms/epoch - 2ms/step  \n",
        "Loss: 0.762144923210144, Accuracy: 0.7308454513549805\n",
        "\n",
        "Third run: two layers, with 200, 150 nodes  \n",
        "268/268 - 0s - loss: 0.9207 - accuracy: 0.7318 - 466ms/epoch - 2ms/step  \n",
        "Loss: 0.9206628203392029, Accuracy: 0.7317784428596497"
      ],
      "metadata": {
        "id": "gyNoYsQsH0cs"
      }
    }
  ],
  "metadata": {
    "kernelspec": {
      "display_name": "Python 3",
      "language": "python",
      "name": "python3"
    },
    "language_info": {
      "codemirror_mode": {
        "name": "ipython",
        "version": 3
      },
      "file_extension": ".py",
      "mimetype": "text/x-python",
      "name": "python",
      "nbconvert_exporter": "python",
      "pygments_lexer": "ipython3",
      "version": "3.7.6"
    },
    "colab": {
      "provenance": []
    }
  },
  "nbformat": 4,
  "nbformat_minor": 0
}